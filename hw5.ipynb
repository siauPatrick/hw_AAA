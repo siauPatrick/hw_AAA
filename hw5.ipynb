{
 "cells": [
  {
   "cell_type": "markdown",
   "metadata": {},
   "source": [
    "## Issue 1"
   ]
  },
  {
   "cell_type": "code",
   "execution_count": 97,
   "metadata": {},
   "outputs": [],
   "source": [
    "import json"
   ]
  },
  {
   "cell_type": "code",
   "execution_count": 98,
   "metadata": {},
   "outputs": [],
   "source": [
    "class ColorizeMixin:\n",
    "    def __repr__(self):\n",
    "        return \"\\033[1;32;10m\" + f'{self.title} | {self.price} ₽' + \"\\n\"\n",
    "\n",
    "\n",
    "class Advert(ColorizeMixin):\n",
    "    def __init__(self, values): \n",
    "        #checking for json format and translating it to a dictionary\n",
    "        if type(values) is str:\n",
    "            self.values = json.loads(values)\n",
    "        else:\n",
    "            self.values = values\n",
    "        \n",
    "        #checking that the price > 0 and error output if price < 0 and price = 0 if the value is omitted\n",
    "        if 'price' in values:\n",
    "            if self.values['price']>=0:\n",
    "                self.price = self.values['price']\n",
    "            else:\n",
    "                raise ValueError('must be >= 0')\n",
    "        else:\n",
    "            self.price = 0 \n",
    "        \n",
    "        #set color \n",
    "        repr_color_code = 32\n",
    "        \n",
    "        \n",
    "    def __getattr__(self, item):\n",
    "        #checking on class\n",
    "        if item == 'class_':\n",
    "            return self.values[item[:-1]]\n",
    "        #checking on dict\n",
    "        if type(self.values[item]) == dict:\n",
    "            return Advert(self.values[item])\n",
    "        return self.values[item]\n",
    "\n",
    "\n",
    "class print_color(ColorizeMixin):\n",
    "    def __init__(self, title, price):\n",
    "        self.title = title\n",
    "        self.price = price"
   ]
  },
  {
   "cell_type": "code",
   "execution_count": 99,
   "metadata": {},
   "outputs": [],
   "source": [
    "lesson_str = \"\"\"{\n",
    "    \"title\": \"python\",\n",
    "    \"price\": 1,\n",
    "    \"location\": {\n",
    "        \"address\": \"город Москва, Лесная, 7\",\n",
    "        \"metro_stations\": [\"Белорусская\"]\n",
    "        }\n",
    "}\"\"\""
   ]
  },
  {
   "cell_type": "code",
   "execution_count": 100,
   "metadata": {},
   "outputs": [
    {
     "data": {
      "text/plain": [
       "\u001b[1;32;10mpython | 1 ₽"
      ]
     },
     "execution_count": 100,
     "metadata": {},
     "output_type": "execute_result"
    }
   ],
   "source": [
    "lesson_ad = Advert(lesson_str)\n",
    "lesson_ad"
   ]
  },
  {
   "cell_type": "code",
   "execution_count": 101,
   "metadata": {},
   "outputs": [
    {
     "name": "stdout",
     "output_type": "stream",
     "text": [
      "python\n",
      "1\n",
      "город Москва, Лесная, 7\n",
      "['Белорусская']\n"
     ]
    }
   ],
   "source": [
    "print(lesson_ad.title)\n",
    "print(lesson_ad.price)\n",
    "print(lesson_ad.location.address)\n",
    "print(lesson_ad.location.metro_stations)"
   ]
  },
  {
   "cell_type": "code",
   "execution_count": 102,
   "metadata": {},
   "outputs": [],
   "source": [
    "corgi = \"\"\"{\n",
    "  \"title\": \"Вельш-корги\",\n",
    "  \"price\": 1000,\n",
    "  \"class\": \"dogs\",\n",
    "  \"location\": {\n",
    "    \"address\": \"сельское поселение Ельдигинское, поселок санатория Тишково, 25\"\n",
    "  }\n",
    "}\"\"\""
   ]
  },
  {
   "cell_type": "code",
   "execution_count": 103,
   "metadata": {},
   "outputs": [
    {
     "name": "stdout",
     "output_type": "stream",
     "text": [
      "\u001b[1;32;10mВельш-корги | 1000 ₽\n",
      "\n"
     ]
    }
   ],
   "source": [
    "corgi = Advert(corgi)\n",
    "print(corgi)"
   ]
  },
  {
   "cell_type": "code",
   "execution_count": 104,
   "metadata": {},
   "outputs": [
    {
     "name": "stdout",
     "output_type": "stream",
     "text": [
      "Вельш-корги\n",
      "1000\n",
      "dogs\n",
      "сельское поселение Ельдигинское, поселок санатория Тишково, 25\n"
     ]
    }
   ],
   "source": [
    "print(corgi.title)\n",
    "print(corgi.price)\n",
    "print(corgi.class_)\n",
    "print(corgi.location.address)"
   ]
  },
  {
   "cell_type": "code",
   "execution_count": 105,
   "metadata": {},
   "outputs": [
    {
     "name": "stdout",
     "output_type": "stream",
     "text": [
      "\u001b[1;32;10miPhone X | 100 ₽\n",
      "\n"
     ]
    }
   ],
   "source": [
    "iphone_ad = print_color('iPhone X', 100)\n",
    "print(iphone_ad)"
   ]
  }
 ],
 "metadata": {
  "kernelspec": {
   "display_name": "Python 3",
   "language": "python",
   "name": "python3"
  },
  "language_info": {
   "codemirror_mode": {
    "name": "ipython",
    "version": 3
   },
   "file_extension": ".py",
   "mimetype": "text/x-python",
   "name": "python",
   "nbconvert_exporter": "python",
   "pygments_lexer": "ipython3",
   "version": "3.7.4"
  }
 },
 "nbformat": 4,
 "nbformat_minor": 2
}
