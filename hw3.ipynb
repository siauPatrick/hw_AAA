{
 "cells": [
  {
   "cell_type": "code",
   "execution_count": 81,
   "metadata": {},
   "outputs": [],
   "source": [
    "corpus = [\n",
    "'Crock Pot Pasta Never boil pasta again',\n",
    "'Pasta Pomodoro Fresh ingredients Parmesan to taste'\n",
    "]"
   ]
  },
  {
   "cell_type": "code",
   "execution_count": 82,
   "metadata": {},
   "outputs": [],
   "source": [
    "class CountVectorizer:\n",
    "    def __init__(self, words = []):\n",
    "        self.words = words\n",
    "    \n",
    "    \"\"\"Преобразует текста в вектор\"\"\"\n",
    "    def fit_transform(self, new_texts: list) -> list:\n",
    "        new_words = [word.lower() for text in new_texts for word in text.split()]\n",
    "        new_words = [new_words[k] for k in range(len(new_words))\n",
    "                     if new_words[k] not in new_words[:k]]\n",
    "        self.words = new_words\n",
    "        return [[list(map(str.lower, text.split())).count(word) for word in self.words]\n",
    "                for text in new_texts]\n",
    "    \n",
    "    \"\"\"Возвращает все уникальные значения\"\"\"\n",
    "    def get_feature_names(self) -> list:\n",
    "        return self.words"
   ]
  },
  {
   "cell_type": "code",
   "execution_count": 84,
   "metadata": {},
   "outputs": [
    {
     "name": "stdout",
     "output_type": "stream",
     "text": [
      "['crock', 'pot', 'pasta', 'never', 'boil', 'again', 'pomodoro', 'fresh', 'ingredients', 'parmesan', 'to', 'taste'] \n",
      "\n",
      "[[1, 1, 2, 1, 1, 1, 0, 0, 0, 0, 0, 0], [0, 0, 1, 0, 0, 0, 1, 1, 1, 1, 1, 1]]\n"
     ]
    }
   ],
   "source": [
    "vectorizer = CountVectorizer()\n",
    "count_matrix = vectorizer.fit_transform(corpus)\n",
    "print(vectorizer.get_feature_names(), '\\n')\n",
    "print(count_matrix)"
   ]
  },
  {
   "cell_type": "code",
   "execution_count": null,
   "metadata": {},
   "outputs": [],
   "source": []
  }
 ],
 "metadata": {
  "kernelspec": {
   "display_name": "Python 3",
   "language": "python",
   "name": "python3"
  },
  "language_info": {
   "codemirror_mode": {
    "name": "ipython",
    "version": 3
   },
   "file_extension": ".py",
   "mimetype": "text/x-python",
   "name": "python",
   "nbconvert_exporter": "python",
   "pygments_lexer": "ipython3",
   "version": "3.7.4"
  }
 },
 "nbformat": 4,
 "nbformat_minor": 2
}
