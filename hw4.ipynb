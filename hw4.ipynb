{
 "cells": [
  {
   "cell_type": "markdown",
   "metadata": {},
   "source": [
    "## Задача 1"
   ]
  },
  {
   "cell_type": "code",
   "execution_count": 1,
   "metadata": {},
   "outputs": [],
   "source": [
    "corpus = [\n",
    "'Crock Pot Pasta Never boil pasta again',\n",
    "'Pasta Pomodoro Fresh ingredients Parmesan to taste',\n",
    "    ]"
   ]
  },
  {
   "cell_type": "code",
   "execution_count": 2,
   "metadata": {},
   "outputs": [],
   "source": [
    "class CountVectorizer:\n",
    "    def __init__(self):\n",
    "        self.words = []\n",
    "    \n",
    "    \"\"\"Преобразует текста в вектор\"\"\"\n",
    "    def fit_transform(self, new_texts: list) -> list:\n",
    "        split_text = [text.lower().split() for text in new_texts]\n",
    "        #new_words = list(set([word for text in split_text for word in text]))\n",
    "        new_words = [word for text in split_text for word in text]\n",
    "        new_words = [new_words[k] for k in range(len(new_words))\n",
    "                     if k == new_words.index(new_words[k])]\n",
    "        self.words = new_words\n",
    "        return [[text.count(word) for word in self.words] for text in split_text]\n",
    "    \n",
    "    \"\"\"Возвращает все уникальные значения\"\"\"\n",
    "    def get_feature_names(self) -> list:\n",
    "        return self.words"
   ]
  },
  {
   "cell_type": "code",
   "execution_count": 3,
   "metadata": {},
   "outputs": [
    {
     "name": "stdout",
     "output_type": "stream",
     "text": [
      "['crock', 'pot', 'pasta', 'never', 'boil', 'again', 'pomodoro', 'fresh', 'ingredients', 'parmesan', 'to', 'taste'] \n",
      "\n",
      "[[1, 1, 2, 1, 1, 1, 0, 0, 0, 0, 0, 0], [0, 0, 1, 0, 0, 0, 1, 1, 1, 1, 1, 1]]\n"
     ]
    }
   ],
   "source": [
    "vectorizer = CountVectorizer()\n",
    "count_matrix = vectorizer.fit_transform(corpus)\n",
    "print(vectorizer.get_feature_names(), '\\n')\n",
    "print(count_matrix)"
   ]
  },
  {
   "cell_type": "markdown",
   "metadata": {},
   "source": [
    "## Задача 2"
   ]
  },
  {
   "cell_type": "code",
   "execution_count": 8,
   "metadata": {},
   "outputs": [],
   "source": [
    "def tf_transform(count_matrix):\n",
    "    s = [len([i for i in x if i > 0]) for x in count_matrix]\n",
    "    return [[round(x / s[k],4) for x in count_matrix[k]] for k in range(len(count_matrix))]"
   ]
  },
  {
   "cell_type": "code",
   "execution_count": 9,
   "metadata": {},
   "outputs": [
    {
     "name": "stdout",
     "output_type": "stream",
     "text": [
      "[[0.1667, 0.1667, 0.3333, 0.1667, 0.1667, 0.1667, 0.0, 0.0, 0.0, 0.0, 0.0, 0.0], [0.0, 0.0, 0.1429, 0.0, 0.0, 0.0, 0.1429, 0.1429, 0.1429, 0.1429, 0.1429, 0.1429]]\n"
     ]
    }
   ],
   "source": [
    "tf_matrix = tf_transform(count_matrix)\n",
    "print(tf_matrix)"
   ]
  },
  {
   "cell_type": "markdown",
   "metadata": {},
   "source": [
    "## Задача 3"
   ]
  },
  {
   "cell_type": "code",
   "execution_count": 16,
   "metadata": {},
   "outputs": [],
   "source": [
    "import math"
   ]
  },
  {
   "cell_type": "code",
   "execution_count": 19,
   "metadata": {},
   "outputs": [],
   "source": [
    "def idf_transform(count_matrix):\n",
    "    l = len(count_matrix)\n",
    "    l2 = len(count_matrix[0])\n",
    "    return [round(math.log((l+1) / (len([x[i] for x in count_matrix if x[i] > 0])+1))+1,3) for i in range(l2)]"
   ]
  },
  {
   "cell_type": "code",
   "execution_count": 20,
   "metadata": {},
   "outputs": [
    {
     "name": "stdout",
     "output_type": "stream",
     "text": [
      "[1.405, 1.405, 1.0, 1.405, 1.405, 1.405, 1.405, 1.405, 1.405, 1.405, 1.405, 1.405]\n"
     ]
    }
   ],
   "source": [
    "idf_matrix = idf_transform(count_matrix)\n",
    "print(idf_matrix)"
   ]
  },
  {
   "cell_type": "markdown",
   "metadata": {},
   "source": [
    "## Задача 4"
   ]
  },
  {
   "cell_type": "code",
   "execution_count": 21,
   "metadata": {},
   "outputs": [],
   "source": [
    "import numpy as np"
   ]
  },
  {
   "cell_type": "code",
   "execution_count": 22,
   "metadata": {},
   "outputs": [],
   "source": [
    "class TfidfTransformer:\n",
    "    def __init__(self):\n",
    "        self.count_matrix = []\n",
    "    \n",
    "    \"\"\"Нормализирует вектора\"\"\"\n",
    "    def fit_transform(self, count_matrix: list) -> list:\n",
    "        tf_matrix = tf_transform(count_matrix)\n",
    "        idf_matrix = idf_transform(count_matrix)\n",
    "        return [list(np.array(x) * np.array(idf_matrix))  for x in tf_matrix]"
   ]
  },
  {
   "cell_type": "code",
   "execution_count": 23,
   "metadata": {},
   "outputs": [
    {
     "name": "stdout",
     "output_type": "stream",
     "text": [
      "[[0.2342135, 0.2342135, 0.3333, 0.2342135, 0.2342135, 0.2342135, 0.0, 0.0, 0.0, 0.0, 0.0, 0.0], [0.0, 0.0, 0.1429, 0.0, 0.0, 0.0, 0.2007745, 0.2007745, 0.2007745, 0.2007745, 0.2007745, 0.2007745]]\n"
     ]
    }
   ],
   "source": [
    "transformer = TfidfTransformer()\n",
    "tfidf_matrix = transformer.fit_transform(count_matrix)\n",
    "print(tfidf_matrix)"
   ]
  },
  {
   "cell_type": "markdown",
   "metadata": {},
   "source": [
    "## Задача 5"
   ]
  },
  {
   "cell_type": "code",
   "execution_count": 24,
   "metadata": {},
   "outputs": [],
   "source": [
    "class TfidfVectorizer:\n",
    "    def __init__(self):\n",
    "        self.count_matrix = []\n",
    "        self.words = []\n",
    "    \n",
    "    \"\"\"Нормализирует вектора\"\"\"\n",
    "    def fit_transform(self, corpus: list) -> list:\n",
    "        vectorizer_ = CountVectorizer()\n",
    "        count_matrix = vectorizer_.fit_transform(corpus)\n",
    "        self.words = vectorizer_.get_feature_names()\n",
    "        transformer = TfidfTransformer()\n",
    "        tfidf_matrix = transformer.fit_transform(count_matrix)\n",
    "        return tfidf_matrix\n",
    "    \n",
    "    def get_feature_names(self) -> list:\n",
    "        return self.words "
   ]
  },
  {
   "cell_type": "code",
   "execution_count": 25,
   "metadata": {},
   "outputs": [
    {
     "name": "stdout",
     "output_type": "stream",
     "text": [
      "['crock', 'pot', 'pasta', 'never', 'boil', 'again', 'pomodoro', 'fresh', 'ingredients', 'parmesan', 'to', 'taste'] \n",
      "\n",
      "[[0.2342135, 0.2342135, 0.3333, 0.2342135, 0.2342135, 0.2342135, 0.0, 0.0, 0.0, 0.0, 0.0, 0.0], [0.0, 0.0, 0.1429, 0.0, 0.0, 0.0, 0.2007745, 0.2007745, 0.2007745, 0.2007745, 0.2007745, 0.2007745]]\n"
     ]
    }
   ],
   "source": [
    "vectorizer = TfidfVectorizer()\n",
    "tfidf_matrix = vectorizer.fit_transform(corpus)\n",
    "print(vectorizer.get_feature_names(), '\\n')\n",
    "print(tfidf_matrix)"
   ]
  },
  {
   "cell_type": "code",
   "execution_count": null,
   "metadata": {},
   "outputs": [],
   "source": []
  }
 ],
 "metadata": {
  "kernelspec": {
   "display_name": "Python 3",
   "language": "python",
   "name": "python3"
  },
  "language_info": {
   "codemirror_mode": {
    "name": "ipython",
    "version": 3
   },
   "file_extension": ".py",
   "mimetype": "text/x-python",
   "name": "python",
   "nbconvert_exporter": "python",
   "pygments_lexer": "ipython3",
   "version": "3.7.4"
  }
 },
 "nbformat": 4,
 "nbformat_minor": 2
}
