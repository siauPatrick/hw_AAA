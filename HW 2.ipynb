{
 "cells": [
  {
   "cell_type": "code",
   "execution_count": 9,
   "metadata": {},
   "outputs": [],
   "source": [
    "import csv"
   ]
  },
  {
   "cell_type": "code",
   "execution_count": 10,
   "metadata": {},
   "outputs": [],
   "source": [
    "def open_file(name_file: str) -> list:\n",
    "    #передает списку таблицу из csv файла\n",
    "    data = []\n",
    "    with open(name_file) as f:\n",
    "        lines = csv.reader(f)\n",
    "        for line in lines:\n",
    "            data.append(line[0].split(';'))\n",
    "    data = data[1:]\n",
    "    return data"
   ]
  },
  {
   "cell_type": "code",
   "execution_count": 11,
   "metadata": {},
   "outputs": [],
   "source": [
    "def unique(data: list, column: int) -> list:\n",
    "    # создает массив из уникальных значений в столбце\n",
    "    return list({line[column] for line in data})\n",
    "\n",
    "def print_unique(data: list, column: int):\n",
    "    #выводит уникальные значения их столбеца\n",
    "    departments = unique(data, column)\n",
    "    for department in departments:\n",
    "        print(department)"
   ]
  },
  {
   "cell_type": "code",
   "execution_count": 12,
   "metadata": {},
   "outputs": [],
   "source": [
    "def creating_data(data:list):\n",
    "    # создает массив и выводит информацию о отделах\n",
    "    new_data = [['Department', 'Quantity', 'Average', 'Min', 'Max']]    \n",
    "    departments = unique(data, 2)\n",
    "    \n",
    "    for department in departments:\n",
    "        k = 0\n",
    "        sum = 0\n",
    "        min = 0\n",
    "        max = 0\n",
    "        for line in data:\n",
    "            if line[2] == department:\n",
    "                k +=1\n",
    "                sum += int(line[4])\n",
    "                if min == 0 or min >= int(line[4]):\n",
    "                    min = int(line[4])\n",
    "                if max == 0 or max <= int(line[4]):\n",
    "                    max = int(line[4])\n",
    "        new_data.append([department, k, sum / k, min, max])\n",
    "        print('\\n', department, '\\n', 'Quantity:', k, '\\n', 'Average:', sum / k, '\\n', 'Min:', min, '\\n', 'Max:', max)\n",
    "    return new_data"
   ]
  },
  {
   "cell_type": "code",
   "execution_count": 13,
   "metadata": {},
   "outputs": [
    {
     "name": "stdout",
     "output_type": "stream",
     "text": [
      "Разработка -> Мобильные приложения\n",
      "Продажи\n",
      "Разработка -> Серверные технологии\n",
      "Разработка -> Продукт\n",
      "Бухгалтерия\n",
      "Аналитика\n",
      "Маркетинг\n",
      "\n",
      " Разработка -> Мобильные приложения \n",
      " Quantity: 14 \n",
      " Average: 91521.42857142857 \n",
      " Min: 65100 \n",
      " Max: 120400\n",
      "\n",
      " Продажи \n",
      " Quantity: 42 \n",
      " Average: 91321.42857142857 \n",
      " Min: 57600 \n",
      " Max: 124500\n",
      "\n",
      " Разработка -> Серверные технологии \n",
      " Quantity: 17 \n",
      " Average: 90917.64705882352 \n",
      " Min: 59700 \n",
      " Max: 123000\n",
      "\n",
      " Разработка -> Продукт \n",
      " Quantity: 12 \n",
      " Average: 91716.66666666667 \n",
      " Min: 58600 \n",
      " Max: 123700\n",
      "\n",
      " Бухгалтерия \n",
      " Quantity: 30 \n",
      " Average: 89993.33333333333 \n",
      " Min: 57200 \n",
      " Max: 123300\n",
      "\n",
      " Аналитика \n",
      " Quantity: 44 \n",
      " Average: 93056.81818181818 \n",
      " Min: 55100 \n",
      " Max: 124800\n",
      "\n",
      " Маркетинг \n",
      " Quantity: 41 \n",
      " Average: 89078.0487804878 \n",
      " Min: 55000 \n",
      " Max: 124600\n"
     ]
    }
   ],
   "source": [
    "def close_file(data: list, name_file: str):\n",
    "    #записывает значения из списка в csv\n",
    "    with open(name_file, \"w\", newline=\"\") as file:\n",
    "        writer = csv.writer(file)\n",
    "        writer.writerows(data)\n",
    "\n",
    "        \n",
    "data = open_file('funcs_homework_employees_sample.csv')\n",
    "print_unique(data, 2)\n",
    "new_data = creating_data(data)       \n",
    "close_file(new_data, 'new_data.csv')"
   ]
  }
 ],
 "metadata": {
  "kernelspec": {
   "display_name": "Python 3",
   "language": "python",
   "name": "python3"
  },
  "language_info": {
   "codemirror_mode": {
    "name": "ipython",
    "version": 3
   },
   "file_extension": ".py",
   "mimetype": "text/x-python",
   "name": "python",
   "nbconvert_exporter": "python",
   "pygments_lexer": "ipython3",
   "version": "3.7.4"
  }
 },
 "nbformat": 4,
 "nbformat_minor": 2
}
